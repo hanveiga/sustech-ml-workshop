{
 "cells": [
  {
   "cell_type": "code",
   "execution_count": 1,
   "metadata": {},
   "outputs": [
    {
     "name": "stderr",
     "output_type": "stream",
     "text": [
      "/Users/seriousmaria/anaconda3/envs/RL/lib/python3.9/site-packages/tqdm/auto.py:22: TqdmWarning: IProgress not found. Please update jupyter and ipywidgets. See https://ipywidgets.readthedocs.io/en/stable/user_install.html\n",
      "  from .autonotebook import tqdm as notebook_tqdm\n"
     ]
    }
   ],
   "source": [
    "## PyTorch\n",
    "import torch\n",
    "import torch.nn as nn\n",
    "import torch.nn.functional as F\n",
    "import torch.utils.data as data\n",
    "import torch.optim as optim\n",
    "import numpy as np\n",
    "from torch.optim.lr_scheduler import StepLR\n",
    "\n",
    "# remove warnings (not nice :) )\n",
    "import warnings\n",
    "warnings.filterwarnings(\"ignore\")"
   ]
  },
  {
   "cell_type": "code",
   "execution_count": 2,
   "metadata": {},
   "outputs": [],
   "source": [
    "# generate some mock data\n",
    "nData = 200\n",
    "x_train = np.random.uniform(low=0.0, high=1, size=(nData,))\n",
    "y_train = 1-np.cos(2*np.pi*x_train)\n",
    "\n",
    "x_test = np.sort(np.random.uniform(low=0.0, high=1.0, size=(50,)))\n",
    "y_test = 1-np.cos(2*np.pi*x_test)\n",
    "batch_size = 32"
   ]
  },
  {
   "cell_type": "code",
   "execution_count": 4,
   "metadata": {},
   "outputs": [],
   "source": [
    "X_tensor = torch.tensor(x_train,dtype=torch.float)\n",
    "y_tensor = torch.tensor(y_train,dtype=torch.float)\n",
    "dataset = torch.utils.data.TensorDataset( X_tensor.unsqueeze(1), y_tensor)\n",
    "\n",
    "training_loader = data.DataLoader(dataset, batch_size=batch_size, shuffle=True, num_workers=2)"
   ]
  },
  {
   "cell_type": "code",
   "execution_count": 5,
   "metadata": {},
   "outputs": [],
   "source": [
    "class Net(nn.Module):\n",
    "    def __init__(self, nInput, nOutput):\n",
    "        super(Net, self).__init__()\n",
    "        \n",
    "        self.stack = nn.Sequential(\n",
    "                nn.Linear(in_features=nInput, out_features=20),\n",
    "                nn.ReLU(),\n",
    "                nn.Linear(in_features=20, out_features=20),\n",
    "                nn.ReLU(),\n",
    "                nn.Linear(in_features=20, out_features=20),\n",
    "                nn.ReLU(),\n",
    "                nn.Linear(in_features=20, out_features=nOutput)\n",
    "            )\n",
    "            \n",
    "    def forward(self, x):\n",
    "            logits = self.stack(x)\n",
    "            return logits"
   ]
  },
  {
   "cell_type": "code",
   "execution_count": 58,
   "metadata": {},
   "outputs": [],
   "source": [
    "def train_one_epoch(epoch_index,model,loss_fn,debug=1):\n",
    "    running_loss = 0.\n",
    "    last_loss = 0.\n",
    "    \n",
    "    for i, data in enumerate(training_loader,0):\n",
    "        inputs, ytrue = data  \n",
    "\n",
    "        # Zero your gradients for every batch!\n",
    "        optimizer.zero_grad()\n",
    "\n",
    "        # Make predictions for this batch\n",
    "        outputs = model(inputs)\n",
    "        # Compute the loss and its gradients\n",
    "        loss = loss_fn(outputs, ytrue.unsqueeze(1))\n",
    "        loss.backward()\n",
    "        if debug == 1:\n",
    "          if i == 0:\n",
    "            grads = {name: params.grad.view(-1).cpu().clone().numpy() for name, params in model.named_parameters() if \"weight\" in name}\n",
    "            for key in grads.keys():\n",
    "                if key == \"stack.0.weight\":\n",
    "                  print(f\"{key}:{grads[key]}\")\n",
    "\n",
    "        # Update parameters\n",
    "        optimizer.step()\n",
    "\n",
    "        # Gather data and report\n",
    "        running_loss += loss.item()\n",
    "    print(f\"Loss:{running_loss/(i+1)}\")\n",
    "    return running_loss/(i+1)"
   ]
  },
  {
   "cell_type": "markdown",
   "metadata": {},
   "source": [
    "# Impact of initialisation in neural networks"
   ]
  },
  {
   "cell_type": "code",
   "execution_count": 40,
   "metadata": {},
   "outputs": [],
   "source": [
    "def init_weights_zero(m):\n",
    "    if isinstance(m, nn.Linear):\n",
    "          m.weight.data.fill_(0.0)\n",
    "          m.bias.data.fill_(0.0)\n",
    "\n",
    "def init_weights_constant(m):\n",
    "    if isinstance(m, nn.Linear):\n",
    "          m.weight.data.fill_(0.1)\n",
    "          m.bias.data.fill_(0.1)\n",
    "\n",
    "def init_weights_xavier(m):\n",
    "    if isinstance(m, nn.Linear):\n",
    "          torch.nn.init.xavier_uniform_(m.weight)\n",
    "          m.bias.data.fill_(0.01)"
   ]
  },
  {
   "cell_type": "code",
   "execution_count": 41,
   "metadata": {},
   "outputs": [
    {
     "name": "stdout",
     "output_type": "stream",
     "text": [
      "\n",
      "Initialisation: zeros\n",
      "Epoch:0\n",
      "stack.0.weight:[0. 0. 0. 0. 0. 0. 0. 0. 0. 0. 0. 0. 0. 0. 0. 0. 0. 0. 0. 0.]\n",
      "Loss:5.001830101013184\n",
      "Epoch:1\n",
      "stack.0.weight:[0. 0. 0. 0. 0. 0. 0. 0. 0. 0. 0. 0. 0. 0. 0. 0. 0. 0. 0. 0.]\n",
      "Loss:5.546699285507202\n",
      "\n",
      "Initialisation: constant\n",
      "Epoch:0\n",
      "stack.0.weight:[0.04463819 0.04463819 0.04463819 0.04463819 0.04463819 0.04463819\n",
      " 0.04463819 0.04463819 0.04463819 0.04463819 0.04463819 0.04463819\n",
      " 0.04463819 0.04463819 0.04463819 0.04463819 0.04463819 0.04463819\n",
      " 0.04463819 0.04463819]\n",
      "Loss:2.722587466239929\n",
      "Epoch:1\n",
      "stack.0.weight:[0.05933565 0.05933565 0.05933565 0.05933565 0.05933565 0.05933565\n",
      " 0.05933565 0.05933565 0.05933565 0.05933565 0.05933565 0.05933565\n",
      " 0.05933565 0.05933565 0.05933565 0.05933565 0.05933565 0.05933565\n",
      " 0.05933565 0.05933565]\n",
      "Loss:2.2802194952964783\n",
      "\n",
      "Initialisation: xavier\n",
      "Epoch:0\n",
      "stack.0.weight:[-0.01133307 -0.00404364 -0.0081841  -0.02376743 -0.00240874  0.01274255\n",
      "  0.02493965  0.01082433 -0.0039224   0.00118894 -0.0170952   0.02197302\n",
      " -0.00556241  0.00280262 -0.00664775 -0.00326845 -0.00289904  0.03248054\n",
      "  0.00197314  0.01276986]\n",
      "Loss:5.613214373588562\n",
      "Epoch:1\n",
      "stack.0.weight:[-0.00547907  0.00624884 -0.00987649 -0.01012468  0.00856756  0.00199054\n",
      "  0.01202765  0.01437023 -0.00536691  0.01323864 -0.01865267  0.0186476\n",
      "  0.0052557   0.00132463 -0.00197625 -0.00798323  0.00557917  0.00300223\n",
      "  0.00887381 -0.00152052]\n",
      "Loss:5.200230956077576\n"
     ]
    }
   ],
   "source": [
    "for initialisation_type, initialisation in zip(['zeros','constant','xavier'],\\\n",
    "                                               [init_weights_zero, init_weights_constant, init_weights_xavier]):\n",
    "  print(f\"\\nInitialisation: {initialisation_type}\")\n",
    "  model = Net(1,1)\n",
    "  model.apply(initialisation)\n",
    "\n",
    "  loss_fn = torch.nn.MSELoss()\n",
    "\n",
    "  optimizer = torch.optim.SGD(model.parameters(), lr=0.01, momentum=0.0)\n",
    "\n",
    "  for i in range(2):\n",
    "    print(f\"Epoch:{i}\")\n",
    "    _ = train_one_epoch(i,model,loss_fn,debug=1)\n"
   ]
  },
  {
   "cell_type": "markdown",
   "metadata": {},
   "source": [
    "# Positivity of input"
   ]
  },
  {
   "cell_type": "code",
   "execution_count": 27,
   "metadata": {},
   "outputs": [
    {
     "name": "stdout",
     "output_type": "stream",
     "text": [
      "Epoch:0\n",
      "Loss:3.811567544937134\n",
      "Epoch:1\n",
      "Loss:3.1166136264801025\n",
      "Epoch:2\n",
      "Loss:2.3698932975530624\n",
      "Epoch:3\n",
      "Loss:2.4441241919994354\n",
      "Epoch:4\n",
      "Loss:2.753449261188507\n",
      "Epoch:5\n",
      "Loss:2.1699183583259583\n",
      "Epoch:6\n",
      "Loss:2.0750198662281036\n",
      "Epoch:7\n",
      "Loss:1.9868517220020294\n",
      "Epoch:8\n",
      "Loss:1.987475723028183\n",
      "Epoch:9\n",
      "Loss:2.4524479508399963\n"
     ]
    }
   ],
   "source": [
    "model = Net(1,1)\n",
    "loss_fn = torch.nn.MSELoss()\n",
    "optimizer = torch.optim.Adam(model.parameters(), lr=0.05)\n",
    "\n",
    "for i in range(10):\n",
    "    print(f\"Epoch:{i}\")\n",
    "    _ = train_one_epoch(i,model,loss_fn,debug=0)"
   ]
  },
  {
   "cell_type": "code",
   "execution_count": 29,
   "metadata": {},
   "outputs": [
    {
     "data": {
      "text/plain": [
       "[<matplotlib.lines.Line2D at 0x7f8b63f54b50>]"
      ]
     },
     "execution_count": 29,
     "metadata": {},
     "output_type": "execute_result"
    },
    {
     "data": {
      "image/png": "[encoded data removed]",
      "text/plain": [
       "<Figure size 432x288 with 1 Axes>"
      ]
     },
     "metadata": {
      "needs_background": "light"
     },
     "output_type": "display_data"
    }
   ],
   "source": [
    "from matplotlib import pyplot as plt\n",
    "y_pred = model(torch.tensor(x_test,dtype=torch.float).unsqueeze(1))\n",
    "plt.plot(x_test,y_pred.detach().numpy())\n",
    "plt.plot(x_test,y_test)"
   ]
  },
  {
   "cell_type": "code",
   "execution_count": null,
   "metadata": {},
   "outputs": [],
   "source": [
    "# scale the inputs"
   ]
  },
  {
   "cell_type": "code",
   "execution_count": 30,
   "metadata": {},
   "outputs": [],
   "source": [
    "x_train_scaled = x_train-0.5\n",
    "X_tensor = torch.tensor(x_train_scaled,dtype=torch.float)\n",
    "y_tensor = torch.tensor(y_train,dtype=torch.float)\n",
    "dataset = torch.utils.data.TensorDataset( X_tensor.unsqueeze(1), y_tensor)\n",
    "\n",
    "training_loader = data.DataLoader(dataset, batch_size=batch_size, shuffle=True, num_workers=2)"
   ]
  },
  {
   "cell_type": "code",
   "execution_count": 31,
   "metadata": {},
   "outputs": [
    {
     "name": "stdout",
     "output_type": "stream",
     "text": [
      "Epoch:0\n",
      "Loss:3.2399200201034546\n",
      "Epoch:1\n",
      "Loss:1.9675293564796448\n",
      "Epoch:2\n",
      "Loss:2.3609328269958496\n",
      "Epoch:3\n",
      "Loss:1.494763970375061\n",
      "Epoch:4\n",
      "Loss:0.8723941147327423\n",
      "Epoch:5\n",
      "Loss:0.5025689899921417\n",
      "Epoch:6\n",
      "Loss:0.25125008076429367\n",
      "Epoch:7\n",
      "Loss:0.3773432895541191\n",
      "Epoch:8\n",
      "Loss:0.249417532235384\n",
      "Epoch:9\n",
      "Loss:0.21150421351194382\n"
     ]
    }
   ],
   "source": [
    "model = Net(1,1)\n",
    "model.apply(init_weights_xavier)\n",
    "\n",
    "loss_fn = torch.nn.MSELoss()\n",
    "optimizer = torch.optim.Adam(model.parameters(), lr=0.05)\n",
    "\n",
    "for i in range(10):\n",
    "    print(f\"Epoch:{i}\")\n",
    "    _ = train_one_epoch(i,model,loss_fn,debug=0)\n"
   ]
  },
  {
   "cell_type": "code",
   "execution_count": 33,
   "metadata": {},
   "outputs": [
    {
     "data": {
      "text/plain": [
       "[<matplotlib.lines.Line2D at 0x7f8b64074820>]"
      ]
     },
     "execution_count": 33,
     "metadata": {},
     "output_type": "execute_result"
    },
    {
     "data": {
      "image/png": "[encoded data removed]",
      "text/plain": [
       "<Figure size 432x288 with 1 Axes>"
      ]
     },
     "metadata": {
      "needs_background": "light"
     },
     "output_type": "display_data"
    }
   ],
   "source": [
    "y_pred = model(torch.tensor(x_test-0.5,dtype=torch.float).unsqueeze(1))\n",
    "plt.plot(x_test,y_pred.detach().numpy())\n",
    "plt.plot(x_test,y_test)"
   ]
  },
  {
   "cell_type": "markdown",
   "metadata": {},
   "source": [
    "# Early stopping"
   ]
  },
  {
   "cell_type": "code",
   "execution_count": 96,
   "metadata": {},
   "outputs": [],
   "source": [
    "# generate val data\n",
    "x_train_scaled = x_train-0.5\n",
    "X_tensor = torch.tensor(x_train_scaled,dtype=torch.float)\n",
    "y_tensor = torch.tensor(y_train,dtype=torch.float)\n",
    "dataset = torch.utils.data.TensorDataset( X_tensor.unsqueeze(1), y_tensor)\n",
    "training_loader = torch.utils.data.DataLoader(dataset, batch_size=batch_size, shuffle=True, num_workers=2)\n",
    "\n",
    "x_val = np.random.uniform(low=0.0, high=1, size=(100,))\n",
    "y_val = 1-np.cos(2*np.pi*x_train)\n",
    "x_val_scaled = x_val - 0.5\n",
    "\n",
    "X_val_t = torch.tensor(x_val_scaled,dtype=torch.float)\n",
    "y_val_t = torch.tensor(y_val,dtype=torch.float)\n",
    "dataset_val = torch.utils.data.TensorDataset( X_val_t.unsqueeze(1), y_val_t)\n",
    "\n",
    "val_loader = torch.utils.data.DataLoader(dataset_val, batch_size=batch_size, shuffle=True, num_workers=2)"
   ]
  },
  {
   "cell_type": "code",
   "execution_count": 97,
   "metadata": {},
   "outputs": [
    {
     "name": "stdout",
     "output_type": "stream",
     "text": [
      "Loss:1.4128361344337463\n",
      "Epoch:  0 Train loss: 1.4128361344337463 Validation loss:  0.8717281483113766\n",
      "Loss:1.1943607330322266\n",
      "Epoch:  1 Train loss: 1.1943607330322266 Validation loss:  0.9196278750896454\n",
      "Loss:0.7983049675822258\n",
      "Epoch:  2 Train loss: 0.7983049675822258 Validation loss:  0.7771755456924438\n",
      "Loss:0.7091645002365112\n",
      "Epoch:  3 Train loss: 0.7091645002365112 Validation loss:  0.6817821562290192\n",
      "Loss:0.5801646336913109\n",
      "Epoch:  4 Train loss: 0.5801646336913109 Validation loss:  0.5223766416311264\n",
      "Loss:0.490474596619606\n",
      "Epoch:  5 Train loss: 0.490474596619606 Validation loss:  0.5103840529918671\n",
      "Loss:0.4490251690149307\n",
      "Epoch:  6 Train loss: 0.4490251690149307 Validation loss:  0.4465390332043171\n",
      "Loss:0.5323442071676254\n",
      "Epoch:  7 Train loss: 0.5323442071676254 Validation loss:  0.6059219241142273\n",
      "Loss:0.47028926759958267\n",
      "Epoch:  8 Train loss: 0.47028926759958267 Validation loss:  0.5429791510105133\n",
      "Loss:0.5370874404907227\n",
      "Epoch:  9 Train loss: 0.5370874404907227 Validation loss:  0.42962459474802017\n",
      "Loss:0.5066276341676712\n",
      "Epoch:  10 Train loss: 0.5066276341676712 Validation loss:  0.4557223469018936\n",
      "Loss:0.40873347595334053\n",
      "Epoch:  11 Train loss: 0.40873347595334053 Validation loss:  0.4569305256009102\n",
      "Loss:0.441678985953331\n",
      "Epoch:  12 Train loss: 0.441678985953331 Validation loss:  0.512896902859211\n",
      "Loss:0.5575176104903221\n",
      "Epoch:  13 Train loss: 0.5575176104903221 Validation loss:  0.4725702852010727\n",
      "Loss:0.45404278486967087\n",
      "Epoch:  14 Train loss: 0.45404278486967087 Validation loss:  0.5287414044141769\n",
      "Loss:0.5275403782725334\n",
      "Epoch:  15 Train loss: 0.5275403782725334 Validation loss:  0.4786641150712967\n",
      "Loss:0.40846022963523865\n",
      "Epoch:  16 Train loss: 0.40846022963523865 Validation loss:  0.5307583659887314\n",
      "Loss:0.4676981344819069\n",
      "Epoch:  17 Train loss: 0.4676981344819069 Validation loss:  0.5344733223319054\n",
      "Loss:0.4368850663304329\n",
      "Epoch:  18 Train loss: 0.4368850663304329 Validation loss:  0.44466128945350647\n",
      "Loss:0.4686787351965904\n",
      "Epoch:  19 Train loss: 0.4686787351965904 Validation loss:  0.4922986701130867\n",
      "Loss:0.397260133177042\n",
      "Epoch:  20 Train loss: 0.397260133177042 Validation loss:  0.4857116788625717\n",
      "Loss:0.533262811601162\n",
      "Epoch:  21 Train loss: 0.533262811601162 Validation loss:  0.47654634714126587\n",
      "Loss:0.4661405235528946\n",
      "Epoch:  22 Train loss: 0.4661405235528946 Validation loss:  0.43142974376678467\n",
      "Loss:0.4891200512647629\n",
      "Epoch:  23 Train loss: 0.4891200512647629 Validation loss:  0.5287310108542442\n",
      "Loss:0.519119992852211\n",
      "Epoch:  24 Train loss: 0.519119992852211 Validation loss:  0.5255187898874283\n",
      "Loss:0.45911943167448044\n",
      "Epoch:  25 Train loss: 0.45911943167448044 Validation loss:  0.44137731194496155\n",
      "Loss:0.4249054864048958\n",
      "Epoch:  26 Train loss: 0.4249054864048958 Validation loss:  0.4944641664624214\n",
      "Loss:0.49423733353614807\n",
      "Epoch:  27 Train loss: 0.49423733353614807 Validation loss:  0.3953759949654341\n",
      "Loss:0.4773223176598549\n",
      "Epoch:  28 Train loss: 0.4773223176598549 Validation loss:  0.5074712410569191\n",
      "Loss:0.447448693215847\n",
      "Epoch:  29 Train loss: 0.447448693215847 Validation loss:  0.48021379113197327\n",
      "Loss:0.4378504306077957\n",
      "Epoch:  30 Train loss: 0.4378504306077957 Validation loss:  0.5027992576360703\n",
      "Loss:0.356477290391922\n",
      "Epoch:  31 Train loss: 0.356477290391922 Validation loss:  0.48565904796123505\n",
      "Loss:0.3706226795911789\n",
      "Epoch:  32 Train loss: 0.3706226795911789 Validation loss:  0.5034050345420837\n",
      "Loss:0.3962181583046913\n",
      "Epoch:  33 Train loss: 0.3962181583046913 Validation loss:  0.42949768528342247\n",
      "Loss:0.29863567650318146\n",
      "Epoch:  34 Train loss: 0.29863567650318146 Validation loss:  0.5528765693306923\n",
      "Loss:0.3080211393535137\n",
      "Epoch:  35 Train loss: 0.3080211393535137 Validation loss:  0.4631321579217911\n",
      "Loss:0.3178236857056618\n",
      "Epoch:  36 Train loss: 0.3178236857056618 Validation loss:  0.543579027056694\n",
      "Loss:0.26031848043203354\n",
      "Epoch:  37 Train loss: 0.26031848043203354 Validation loss:  0.5129898190498352\n",
      "Loss:0.18540214002132416\n",
      "Epoch:  38 Train loss: 0.18540214002132416 Validation loss:  0.6529499441385269\n",
      "Loss:0.14785036630928516\n",
      "Epoch:  39 Train loss: 0.14785036630928516 Validation loss:  0.6331713795661926\n",
      "Loss:0.11173979565501213\n",
      "Epoch:  40 Train loss: 0.11173979565501213 Validation loss:  0.6024342179298401\n",
      "Loss:0.09732594154775143\n",
      "Epoch:  41 Train loss: 0.09732594154775143 Validation loss:  0.679315447807312\n",
      "Loss:0.06818307191133499\n",
      "Epoch:  42 Train loss: 0.06818307191133499 Validation loss:  0.7802364528179169\n",
      "Loss:0.029956254176795483\n",
      "Epoch:  43 Train loss: 0.029956254176795483 Validation loss:  0.7975662052631378\n",
      "Loss:0.021833537612110376\n",
      "Epoch:  44 Train loss: 0.021833537612110376 Validation loss:  0.8347509354352951\n",
      "Loss:0.012670080061070621\n",
      "Epoch:  45 Train loss: 0.012670080061070621 Validation loss:  1.0284712612628937\n",
      "early stopping at epoch:  45\n"
     ]
    }
   ],
   "source": [
    "class EarlyStopping:\n",
    "    def __init__(self, patience=1, burn_in= 10, min_delta=0):\n",
    "        self.patience = patience\n",
    "        self.min_delta = min_delta\n",
    "        self.counter = 0\n",
    "        self.min_validation_loss = float('inf')\n",
    "        self.prev_validation =  float('inf')\n",
    "        self.iter = 0\n",
    "        self.burn_in = burn_in\n",
    "\n",
    "    def stop(self, validation_loss):\n",
    "        if self.iter > self.burn_in:\n",
    "            self.iter += 1\n",
    "            if validation_loss < self.prev_validation:\n",
    "                self.prev_validation = validation_loss\n",
    "                self.counter = 0\n",
    "            elif validation_loss > (self.prev_validation + self.min_delta):\n",
    "                self.counter += 1\n",
    "                if self.counter >= self.patience:\n",
    "                    return True\n",
    "            return False\n",
    "        else:\n",
    "            self.prev_validation = validation_loss\n",
    "            self.iter += 1\n",
    "            return False\n",
    "    \n",
    "def validation_loss_compute(validation_loader, model, loss_fn):\n",
    "    running_loss = 0.\n",
    "    for i, data in enumerate(validation_loader):\n",
    "        inputs, labels = data\n",
    "        outputs = model(inputs)\n",
    "        loss = loss_fn(outputs, labels)\n",
    "        running_loss += loss.item()\n",
    "    return running_loss/(i+1)\n",
    "\n",
    "model = Net(1,1)\n",
    "loss_fn = torch.nn.MSELoss(reduction='mean')\n",
    "optimizer = torch.optim.Adam(model.parameters(), lr=0.005)\n",
    "\n",
    "train_l = []\n",
    "val_l = []\n",
    "early_stopper = EarlyStopping(patience=5, min_delta=0.01,burn_in=10)\n",
    "for epoch in np.arange(100):\n",
    "    train_loss = train_one_epoch(epoch,model,loss_fn,debug=0)\n",
    "    validation_loss = validation_loss_compute(val_loader, model, loss_fn)\n",
    "    train_l.append(train_loss)\n",
    "    val_l.append(validation_loss)\n",
    "    print(\"Epoch: \", epoch, \"Train loss:\", train_loss, \"Validation loss: \", validation_loss)\n",
    "    if early_stopper.stop(validation_loss): \n",
    "        print(\"early stopping at epoch: \", epoch)            \n",
    "        break\n",
    "    "
   ]
  },
  {
   "cell_type": "code",
   "execution_count": 98,
   "metadata": {},
   "outputs": [
    {
     "data": {
      "text/plain": [
       "<matplotlib.legend.Legend at 0x7f8b4d21c130>"
      ]
     },
     "execution_count": 98,
     "metadata": {},
     "output_type": "execute_result"
    },
    {
     "data": {
      "image/png": "[encoded data removed]",
      "text/plain": [
       "<Figure size 432x288 with 1 Axes>"
      ]
     },
     "metadata": {
      "needs_background": "light"
     },
     "output_type": "display_data"
    }
   ],
   "source": [
    "plt.plot(train_l,label='train_error')\n",
    "plt.plot(val_l,label='val_error')\n",
    "plt.legend()"
   ]
  },
  {
   "cell_type": "markdown",
   "metadata": {},
   "source": [
    "# Nonlinear transformations"
   ]
  },
  {
   "cell_type": "code",
   "execution_count": 2,
   "metadata": {},
   "outputs": [],
   "source": [
    "# Visualising the n-1 layer transformations of the input"
   ]
  },
  {
   "cell_type": "code",
   "execution_count": 8,
   "metadata": {},
   "outputs": [],
   "source": [
    "class Net(nn.Module):\n",
    "    def __init__(self, nInput, nOutput):\n",
    "        super(Net, self).__init__()\n",
    "        \n",
    "        self.stack = nn.Sequential(\n",
    "                nn.Linear(in_features=nInput, out_features=100),\n",
    "                nn.ReLU(),\n",
    "                nn.Linear(in_features=100, out_features=50),\n",
    "                nn.ReLU(),\n",
    "                nn.Linear(in_features=50, out_features=50),\n",
    "                nn.ReLU(),\n",
    "                nn.Linear(in_features=50, out_features=30),\n",
    "                nn.ReLU(),\n",
    "                nn.Linear(in_features=30, out_features=20),\n",
    "                nn.ReLU()\n",
    "            )\n",
    "        \n",
    "        self.output = nn.Sequential(nn.Linear(in_features=20,out_features=1))\n",
    "            \n",
    "    def forward(self, x):\n",
    "            logits = self.stack(x)\n",
    "            return self.output(logits)\n",
    "        \n",
    "    def reveal(self,x):\n",
    "        return self.stack(x)"
   ]
  },
  {
   "cell_type": "code",
   "execution_count": 9,
   "metadata": {},
   "outputs": [],
   "source": [
    "nData = 1000\n",
    "x_train = np.random.uniform(low=-1.0, high=1, size=(nData,))\n",
    "y_train = np.cos(2*np.pi*x_train)\n",
    "batch_size=64\n",
    "\n",
    "X_tensor = torch.tensor(x_train,dtype=torch.float)\n",
    "y_tensor = torch.tensor(y_train,dtype=torch.float)\n",
    "dataset = torch.utils.data.TensorDataset( X_tensor.unsqueeze(1), y_tensor)\n",
    "\n",
    "training_loader = torch.utils.data.DataLoader(dataset, batch_size=batch_size, shuffle=True, num_workers=2)"
   ]
  },
  {
   "cell_type": "code",
   "execution_count": 14,
   "metadata": {},
   "outputs": [
    {
     "name": "stdout",
     "output_type": "stream",
     "text": [
      "Epoch: 0 Loss:8.855804232880473\n",
      "Epoch: 1 Loss:0.503267427906394\n",
      "Epoch: 2 Loss:0.4848663043230772\n",
      "Epoch: 3 Loss:0.47114528715610504\n",
      "Epoch: 4 Loss:0.45109869353473186\n",
      "Epoch: 5 Loss:0.3641939861699939\n",
      "Epoch: 6 Loss:0.12865572050213814\n",
      "Epoch: 7 Loss:0.03562809177674353\n",
      "Epoch: 8 Loss:0.01599536358844489\n",
      "Epoch: 9 Loss:0.006492820073617622\n",
      "Epoch: 10 Loss:0.00643910288636107\n",
      "Epoch: 11 Loss:0.0029792790301144123\n",
      "Epoch: 12 Loss:0.002982493839226663\n",
      "Epoch: 13 Loss:0.0021268200362101197\n",
      "Epoch: 14 Loss:0.0022194054145074915\n",
      "Epoch: 15 Loss:0.002351356510189362\n",
      "Epoch: 16 Loss:0.0033200441612279974\n",
      "Epoch: 17 Loss:0.001837907031585928\n",
      "Epoch: 18 Loss:0.001362320519547211\n",
      "Epoch: 19 Loss:0.0011050817265640944\n",
      "Epoch: 20 Loss:0.0012296648674237076\n",
      "Epoch: 21 Loss:0.0011707278572430369\n",
      "Epoch: 22 Loss:0.0013768485914624762\n",
      "Epoch: 23 Loss:0.0008986070170067251\n",
      "Epoch: 24 Loss:0.001060620961652603\n",
      "Epoch: 25 Loss:0.004385812018881552\n",
      "Epoch: 26 Loss:0.0031309783007600345\n",
      "Epoch: 27 Loss:0.001979450709768571\n",
      "Epoch: 28 Loss:0.002548810087318998\n",
      "Epoch: 29 Loss:0.0031713550852146\n",
      "Epoch: 30 Loss:0.0013096526854496915\n",
      "Epoch: 31 Loss:0.0014326347190944944\n",
      "Epoch: 32 Loss:0.0012581542650877964\n",
      "Epoch: 33 Loss:0.0010290596783306682\n",
      "Epoch: 34 Loss:0.0008896723193174694\n",
      "Epoch: 35 Loss:0.0019850865082844393\n",
      "Epoch: 36 Loss:0.0043909863161388785\n",
      "Epoch: 37 Loss:0.004162908953730948\n",
      "Epoch: 38 Loss:0.004028626899525989\n",
      "Epoch: 39 Loss:0.0028713384599541314\n"
     ]
    }
   ],
   "source": [
    "model = Net(1,1)\n",
    "loss_fn = torch.nn.MSELoss(reduction='mean')\n",
    "optimizer = torch.optim.Adam(model.parameters(), lr=0.1)\n",
    "scheduler = StepLR(optimizer, step_size=1, gamma=0.99)\n",
    "\n",
    "# train model\n",
    "for epoch in range(40):\n",
    "    running_loss = 0.\n",
    "    for i, data in enumerate(training_loader,0):\n",
    "        inputs, ytrue = data  \n",
    "\n",
    "        # Zero your gradients for every batch!\n",
    "        optimizer.zero_grad()\n",
    "\n",
    "        # Make predictions for this batch\n",
    "        outputs = model(inputs)\n",
    "        # Compute the loss and its gradients\n",
    "        loss = loss_fn(outputs, ytrue.unsqueeze(1))\n",
    "        loss.backward()\n",
    "\n",
    "        # Update parameters\n",
    "        optimizer.step()\n",
    "\n",
    "        # Gather data and report\n",
    "        running_loss += loss.item()\n",
    "    scheduler.step()\n",
    "    print(f\"Epoch: {epoch} Loss:{running_loss/(i+1)}\")\n"
   ]
  },
  {
   "cell_type": "code",
   "execution_count": 19,
   "metadata": {},
   "outputs": [],
   "source": [
    "x_uniform = np.linspace(-1,1,100)\n",
    "\n",
    "features = model.reveal(torch.tensor(x_uniform,dtype=torch.float).unsqueeze(1))\n",
    "y_pred = model(torch.tensor(x_uniform,dtype=torch.float).unsqueeze(1))"
   ]
  },
  {
   "cell_type": "code",
   "execution_count": 20,
   "metadata": {},
   "outputs": [],
   "source": [
    "features_np = features.detach().numpy()"
   ]
  },
  {
   "cell_type": "code",
   "execution_count": 21,
   "metadata": {},
   "outputs": [
    {
     "data": {
      "text/plain": [
       "<matplotlib.legend.Legend at 0x7f9cec824c40>"
      ]
     },
     "execution_count": 21,
     "metadata": {},
     "output_type": "execute_result"
    },
    {
     "data": {
      "image/png": "[encoded data removed]",
      "text/plain": [
       "<Figure size 432x288 with 1 Axes>"
      ]
     },
     "metadata": {
      "needs_background": "light"
     },
     "output_type": "display_data"
    },
    {
     "data": {
      "image/png": "[encoded data removed]",
      "text/plain": [
       "<Figure size 432x288 with 1 Axes>"
      ]
     },
     "metadata": {
      "needs_background": "light"
     },
     "output_type": "display_data"
    }
   ],
   "source": [
    "from matplotlib import pyplot as plt\n",
    "for i in range(10):\n",
    "    plt.plot(features_np[:,i])\n",
    "    \n",
    "plt.figure()\n",
    "plt.plot(y_pred.detach().numpy(),lw=5,label='pred')\n",
    "plt.plot(np.cos(2*np.pi*x_uniform),lw=4,ls='dotted',label='true')\n",
    "plt.legend()"
   ]
  },
  {
   "cell_type": "code",
   "execution_count": null,
   "metadata": {},
   "outputs": [],
   "source": []
  },
  {
   "cell_type": "code",
   "execution_count": null,
   "metadata": {},
   "outputs": [],
   "source": []
  }
 ],
 "metadata": {
  "kernelspec": {
   "display_name": "RL",
   "language": "python",
   "name": "rl"
  },
  "language_info": {
   "codemirror_mode": {
    "name": "ipython",
    "version": 3
   },
   "file_extension": ".py",
   "mimetype": "text/x-python",
   "name": "python",
   "nbconvert_exporter": "python",
   "pygments_lexer": "ipython3",
   "version": "3.9.12"
  }
 },
 "nbformat": 4,
 "nbformat_minor": 4
}
